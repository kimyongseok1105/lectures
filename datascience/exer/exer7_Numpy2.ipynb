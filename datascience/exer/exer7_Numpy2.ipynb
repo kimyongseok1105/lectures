{
 "cells": [
  {
   "cell_type": "code",
   "execution_count": 6,
   "id": "722dda28-599e-45d3-99aa-ab0f5c0ca329",
   "metadata": {},
   "outputs": [],
   "source": [
    "import numpy as np"
   ]
  },
  {
   "cell_type": "code",
   "execution_count": 11,
   "id": "5fd02bcc-b344-42df-9a27-43f742452ae8",
   "metadata": {},
   "outputs": [
    {
     "data": {
      "text/plain": [
       "<module 'numpy' from 'C:\\\\Users\\\\YSKIM\\\\anaconda3\\\\lib\\\\site-packages\\\\numpy\\\\__init__.py'>"
      ]
     },
     "execution_count": 11,
     "metadata": {},
     "output_type": "execute_result"
    }
   ],
   "source": [
    "np"
   ]
  },
  {
   "cell_type": "code",
   "execution_count": 17,
   "id": "4d01d4e7-52cc-4bc7-ae54-cc317c8b3ee1",
   "metadata": {},
   "outputs": [
    {
     "name": "stdout",
     "output_type": "stream",
     "text": [
      "[0 1 2]\n",
      "[2 3 4]\n",
      "[1 3 5 7]\n"
     ]
    }
   ],
   "source": [
    "\"\"\"\n",
    "Numpy Array Attributes\n",
    "\"\"\"\n",
    "\n",
    "#Creatubg ab array\n",
    "print(np.arange(3)) #stop\n",
    "print(np.arange(2,5)) #start, stop\n",
    "print(np.arange(1, 9, 2)) #start, stop, step"
   ]
  },
  {
   "cell_type": "code",
   "execution_count": 74,
   "id": "af54ffc7-05f2-4a27-9fa5-c30db86a42b4",
   "metadata": {},
   "outputs": [
    {
     "name": "stdout",
     "output_type": "stream",
     "text": [
      "[7 4 2 3 5]\n",
      "[[91 19 51 56 53]\n",
      " [53  7 26 90 27]\n",
      " [ 4 75 53  1 77]]\n",
      "[[[70 73]\n",
      "  [72 55]\n",
      "  [40 81]\n",
      "  [47 19]\n",
      "  [33  4]]\n",
      "\n",
      " [[ 6 79]\n",
      "  [36 53]\n",
      "  [59 22]\n",
      "  [65 89]\n",
      "  [95 34]]\n",
      "\n",
      " [[75 73]\n",
      "  [71 58]\n",
      "  [63 84]\n",
      "  [65  6]\n",
      "  [66 18]]]\n"
     ]
    }
   ],
   "source": [
    "# Random number generator\n",
    "\n",
    "arr1 = np.random.randint(10, size=(5))\n",
    "print(arr1)\n",
    "\n",
    "arr2 = np.random.randint(100, size=(3, 5))\n",
    "print(arr2)\n",
    "\n",
    "arr3 = np.random.randint(100, size=(3, 5, 2))\n",
    "print(arr3)"
   ]
  },
  {
   "cell_type": "code",
   "execution_count": 85,
   "id": "802da79e-e3a0-4bab-8405-e0c3afb55616",
   "metadata": {},
   "outputs": [
    {
     "name": "stdout",
     "output_type": "stream",
     "text": [
      "arr1.ndim =  1\n",
      "arr2.ndim =  (3, 5)\n",
      "arr2.size =  15\n",
      "arr2.dtype =  int32\n",
      "arr2.itemsize =  4\n",
      "arr4.itemsize =  8\n",
      "arr2.nbytes =  60\n"
     ]
    }
   ],
   "source": [
    "# Atrributes\n",
    "\n",
    "print(\"arr1.ndim = \", arr1.ndim)\n",
    "print(\"arr2.ndim = \", arr2.shape)\n",
    "print(\"arr2.size = \", arr2.size)\n",
    "\n",
    "print(\"arr2.dtype = \", arr2.dtype)\n",
    "print(\"arr2.itemsize = \", arr2.itemsize)\n",
    "\n",
    "arr4 = np.array([1.5, 2.3, 3.4])\n",
    "print(\"arr4.itemsize = \", arr4.itemsize)\n",
    "\n",
    "print(\"arr2.nbytes = \", arr2.nbytes)"
   ]
  },
  {
   "cell_type": "code",
   "execution_count": 101,
   "id": "81d96f30-32e4-4c61-b29c-6c6a450664c5",
   "metadata": {},
   "outputs": [
    {
     "name": "stdout",
     "output_type": "stream",
     "text": [
      "[[5 8 9 5]\n",
      " [0 0 1 7]\n",
      " [6 9 2 4]] \n",
      "\n",
      "[[5 8]\n",
      " [0 0]] \n",
      "\n",
      "[[-1  8]\n",
      " [ 0  0]] \n",
      "\n",
      "[[-1  8  9  5]\n",
      " [ 0  0  1  7]\n",
      " [ 6  9  2  4]]\n"
     ]
    }
   ],
   "source": [
    "\"\"\" \n",
    "Subarrays as no-copy views\n",
    "\"\"\"\n",
    "np.random.seed(1)\n",
    "arr = np.random.randint(10, size=(3, 4))\n",
    "print(arr, '\\n')\n",
    "\n",
    "arr_sub = arr[:2, :2]\n",
    "print(arr_sub, '\\n')\n",
    "\n",
    "arr_sub[0, 0] = -1\n",
    "print(arr_sub, '\\n')\n",
    "\n",
    "print(arr)"
   ]
  },
  {
   "cell_type": "code",
   "execution_count": 107,
   "id": "529aa383-0ee0-4ee8-8438-17842d288553",
   "metadata": {},
   "outputs": [
    {
     "name": "stdout",
     "output_type": "stream",
     "text": [
      "[[5 8 9 5]\n",
      " [0 0 1 7]\n",
      " [6 9 2 4]]\n",
      "[[5 8]\n",
      " [0 0]] \n",
      "\n",
      "[[-1  8]\n",
      " [ 0  0]] \n",
      "\n",
      "[[5 8 9 5]\n",
      " [0 0 1 7]\n",
      " [6 9 2 4]]\n"
     ]
    }
   ],
   "source": [
    "# copy()\n",
    "np.random.seed(1)\n",
    "arr = np.random.randint(10, size=(3, 4))\n",
    "print(arr)\n",
    "\n",
    "arr_sub = arr[:2, :2].copy()\n",
    "print(arr_sub, '\\n')\n",
    "\n",
    "arr_sub[0, 0] = -1\n",
    "print(arr_sub, '\\n')\n",
    "\n",
    "print(arr)"
   ]
  },
  {
   "cell_type": "code",
   "execution_count": 113,
   "id": "7694e4c3-aac4-409c-a21b-7845ca77c96a",
   "metadata": {},
   "outputs": [
    {
     "name": "stdout",
     "output_type": "stream",
     "text": [
      "[1 2 3 4 5 6 7 8 9]\n",
      "[[1 2 3]\n",
      " [4 5 6]\n",
      " [7 8 9]]\n"
     ]
    }
   ],
   "source": [
    "\"\"\"\n",
    "Reshaping of Arrays\n",
    "\"\"\"\n",
    "\n",
    "arr = np.arange(1, 10)\n",
    "print(arr)\n",
    "\n",
    "grid = arr.reshape(3, 3)\n",
    "print(grid)"
   ]
  },
  {
   "cell_type": "code",
   "execution_count": 118,
   "id": "ede74130-375c-41b8-86b0-ee0a5fa7ebca",
   "metadata": {},
   "outputs": [
    {
     "name": "stdout",
     "output_type": "stream",
     "text": [
      "[1 2 3]\n",
      "arr.ndim =  1\n",
      "arr.shape =  (3,)\n",
      "[[1]\n",
      " [2]\n",
      " [3]]\n",
      "arr_new.ndim =  2\n",
      "arr_new.shape =  (3, 1)\n"
     ]
    }
   ],
   "source": [
    "#np.newaxis\n",
    "arr = np.array([1, 2, 3])\n",
    "print(arr)\n",
    "print(\"arr.ndim = \", arr.ndim)\n",
    "print(\"arr.shape = \", arr.shape)\n",
    "\n",
    "arr_new = arr[:, np.newaxis]\n",
    "print(arr_new)\n",
    "print(\"arr_new.ndim = \", arr_new.ndim)\n",
    "print(\"arr_new.shape = \", arr_new.shape)"
   ]
  },
  {
   "cell_type": "code",
   "execution_count": 121,
   "id": "19670b09-2970-4ac6-8433-e19c52e80c7c",
   "metadata": {},
   "outputs": [
    {
     "name": "stdout",
     "output_type": "stream",
     "text": [
      "[1 2 3 4 5 6 7 8 9]\n",
      "[[1 2 3]\n",
      " [4 5 6]\n",
      " [7 8 9]]\n"
     ]
    }
   ],
   "source": [
    "\"\"\"\n",
    "Array Concatenation\n",
    "\"\"\"\n",
    "\n",
    "arr_1 = np.array([1, 2, 3])\n",
    "arr_2 = np.array([4, 5, 6])\n",
    "arr_3 = np.array([7, 8, 9])\n",
    "\n",
    "arr_total = np.concatenate([arr_1, arr_2, arr_3])\n",
    "print(arr_total)\n",
    "\n",
    "arr_total = np.vstack([arr_1, arr_2, arr_3])\n",
    "print(arr_total)\n"
   ]
  },
  {
   "cell_type": "code",
   "execution_count": 123,
   "id": "d6fddc3d-29cf-42ae-9ace-07e09330e653",
   "metadata": {},
   "outputs": [
    {
     "name": "stdout",
     "output_type": "stream",
     "text": [
      "[1, 2, 3, 99, 99, 3, 2, 1]\n",
      "[1 2] [ 3 99 99] [3 2 1]\n"
     ]
    }
   ],
   "source": [
    "\"\"\"\n",
    "Array Splitting\n",
    "\"\"\"\n",
    "arr = [1, 2, 3, 99, 99, 3, 2, 1]\n",
    "print(arr)\n",
    "\n",
    "arr_1, arr_2, arr_3 = np.split(arr, [2, 5])\n",
    "print(arr_1, arr_2, arr_3)"
   ]
  }
 ],
 "metadata": {
  "kernelspec": {
   "display_name": "Python 3",
   "language": "python",
   "name": "python3"
  },
  "language_info": {
   "codemirror_mode": {
    "name": "ipython",
    "version": 3
   },
   "file_extension": ".py",
   "mimetype": "text/x-python",
   "name": "python",
   "nbconvert_exporter": "python",
   "pygments_lexer": "ipython3",
   "version": "3.8.8"
  }
 },
 "nbformat": 4,
 "nbformat_minor": 5
}
