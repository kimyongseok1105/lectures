{
 "cells": [
  {
   "cell_type": "code",
   "execution_count": 4,
   "id": "86b72e97-5465-489d-918d-af4fd9ac8cff",
   "metadata": {},
   "outputs": [
    {
     "name": "stdout",
     "output_type": "stream",
     "text": [
      "[2, 3, 5, 7, 11, 2]\n",
      "[]\n"
     ]
    }
   ],
   "source": [
    "\"\"\"\n",
    "\n",
    "Lists\n",
    "\"\"\"\n",
    "\n",
    "primes = [2, 3, 5, 7, 11, 2]\n",
    "print(primes)\n",
    "\n",
    "empty_list = []\n",
    "print(empty_list)"
   ]
  },
  {
   "cell_type": "code",
   "execution_count": 9,
   "id": "122c0252-bbbc-4584-b7d2-8d47b8585257",
   "metadata": {},
   "outputs": [
    {
     "name": "stdout",
     "output_type": "stream",
     "text": [
      "['Jenny', 1, 1.4, True]\n"
     ]
    }
   ],
   "source": [
    "\"\"\"\n",
    "Multiple different data types\n",
    "\"\"\"\n",
    "mixed = ['Jenny', 1, 1.4, True]\n",
    "print(mixed)\n",
    "list_of_lists = [['a', 1], ['b', 2]]"
   ]
  },
  {
   "cell_type": "code",
   "execution_count": 11,
   "id": "c7d9aff9-5503-4775-be49-be9147744d8f",
   "metadata": {},
   "outputs": [
    {
     "name": "stdout",
     "output_type": "stream",
     "text": [
      "Roger\n",
      "Rafael\n",
      "Amdy\n",
      "Novak\n"
     ]
    }
   ],
   "source": [
    "\"\"\"\n",
    "Zero-indexing\n",
    "\"\"\"\n",
    "\n",
    "names = ['Roger', 'Rafael', 'Amdy', 'Novak']\n",
    "\n",
    "print(names[0]) #first data\n",
    "print(names[1])\n",
    "print(names[2])\n",
    "print(names[3])"
   ]
  },
  {
   "cell_type": "code",
   "execution_count": 14,
   "id": "dfb67c71-408e-464e-bb57-3d7e1c14eb71",
   "metadata": {},
   "outputs": [
    {
     "name": "stdout",
     "output_type": "stream",
     "text": [
      "Novak\n",
      "Amdy\n",
      "Rafael\n",
      "Roger\n"
     ]
    }
   ],
   "source": [
    "\"\"\"\n",
    "Negative indexing\n",
    "\"\"\"\n",
    "print(names[-1]) # last data\n",
    "print(names[-2]) # second to last data\n",
    "print(names[-3]) # third to last data\n",
    "print(names[-4]) # fourth to last data"
   ]
  },
  {
   "cell_type": "code",
   "execution_count": 19,
   "id": "fc5f1b9c-359a-4cad-88da-b27067335581",
   "metadata": {},
   "outputs": [
    {
     "name": "stdout",
     "output_type": "stream",
     "text": [
      "['생활관', '필헌관', '소통관']\n",
      "['만우관', '장공관', '필헌관', '소통관', '송암관', '늦봄관', '장준하통일관']\n",
      "['만우관', '장공관', '필헌관', '소통관', '송암관', '늦봄관', '장준하통일관']\n"
     ]
    }
   ],
   "source": [
    "\"\"\"\n",
    "List slicing\n",
    "\"\"\"\n",
    "hsu_buildings = ['만우관', '장공관', '필헌관', '소통관', '송암관', '늦봄관', '장준하통일관']\n",
    "building_slice = hsu_buildings[1:4] # 독립적인 객체\n",
    "building_slice[0] = '생활관'\n",
    "\n",
    "\n",
    "print(building_slice)\n",
    "print(hsu_buildings)\n",
    "print(hsu_buildings[:])"
   ]
  },
  {
   "cell_type": "code",
   "execution_count": 25,
   "id": "57801a5b-0cba-45f5-880e-c0e45c64aeb6",
   "metadata": {},
   "outputs": [
    {
     "name": "stdout",
     "output_type": "stream",
     "text": [
      "[['해우리', '한식', '고S'], ['짜장명가', '중식', '중화비빔밥'], ['찌개동아리', '한식', '제육전골'], ['맘스터치', '양식', '싸이버거']]\n",
      "['해우리', '한식', '해우라면']\n"
     ]
    }
   ],
   "source": [
    "\"\"\"\n",
    "Multi_dimensional Lists\n",
    "\"\"\"\n",
    "\n",
    "restaurants = [['해우리', '한식', '고S'], ['짜장명가', '중식', '중화비빔밥'],\n",
    "                ['찌개동아리', '한식', '제육전골'], ['맘스터치', '양식', '싸이버거']]\n",
    "\n",
    "print(restaurants)\n",
    "\n",
    "restaurants[0][2] = '해우라면'\n",
    "print(restaurants[0])"
   ]
  },
  {
   "cell_type": "code",
   "execution_count": 30,
   "id": "f1420aa6-eb30-4850-8c6e-e3f3ece8a81b",
   "metadata": {},
   "outputs": [
    {
     "name": "stdout",
     "output_type": "stream",
     "text": [
      "['cake', 'cookie', 'bread', 'biscuit', 'tart']\n"
     ]
    }
   ],
   "source": [
    "\"\"\"\n",
    "Adding Lists Together\n",
    "\"\"\"\n",
    "\n",
    "Items_one = ['cake', 'cookie', 'bread']\n",
    "Items_two = ['biscuit', 'tart']\n",
    "\n",
    "total_Items = Items_one + Items_two\n",
    "print(total_Items)"
   ]
  },
  {
   "cell_type": "code",
   "execution_count": 35,
   "id": "6c42f0bc-efea-4527-8fd4-3519b79e0319",
   "metadata": {},
   "outputs": [
    {
     "name": "stdout",
     "output_type": "stream",
     "text": [
      "5\n",
      "['daisies', 'periwinkle', 'tulips']\n",
      "['Karia', 'Maxium', 'Vikor', 'Martin', 'Isabella']\n"
     ]
    },
    {
     "ename": "ValueError",
     "evalue": "list.remove(x): x not in list",
     "output_type": "error",
     "traceback": [
      "\u001b[1;31m---------------------------------------------------------------------------\u001b[0m",
      "\u001b[1;31mValueError\u001b[0m                                Traceback (most recent call last)",
      "\u001b[1;32m<ipython-input-35-2870111048be>\u001b[0m in \u001b[0;36m<module>\u001b[1;34m\u001b[0m\n\u001b[0;32m     23\u001b[0m sw_subjects = ['C Programing', 'Calcaulus', 'Data Enginnering',\n\u001b[0;32m     24\u001b[0m                'Data Structures', 'Machine Learning']\n\u001b[1;32m---> 25\u001b[1;33m \u001b[0msw_subjects\u001b[0m\u001b[1;33m.\u001b[0m\u001b[0mremove\u001b[0m\u001b[1;33m(\u001b[0m\u001b[1;34m'Algorithms'\u001b[0m\u001b[1;33m)\u001b[0m\u001b[1;33m\u001b[0m\u001b[1;33m\u001b[0m\u001b[0m\n\u001b[0m",
      "\u001b[1;31mValueError\u001b[0m: list.remove(x): x not in list"
     ]
    }
   ],
   "source": [
    "\"\"\"\n",
    "Useful Methods for Lists\n",
    "\"\"\"\n",
    "\n",
    "# Len()\n",
    "knapsack = [2, 4, 3, 7, 10]\n",
    "size = len(knapsack)\n",
    "print(size)\n",
    "\n",
    "# append()\n",
    "orders = ['daisies', 'periwinkle']\n",
    "orders.append('tulips')\n",
    "\n",
    "print(orders)\n",
    "\n",
    "# insert()\n",
    "store_line = ['Karia', 'Maxium', 'Martin', 'Isabella']\n",
    "store_line.insert(2, 'Vikor')\n",
    "\n",
    "print(store_line)\n",
    "\n",
    "# remove\n",
    "sw_subjects = ['C Programing', 'Calcaulus', 'Data Enginnering',\n",
    "               'Data Structures', 'Machine Learning']\n",
    "sw_subjects.remove('Algorithms')"
   ]
  },
  {
   "cell_type": "code",
   "execution_count": 38,
   "id": "8a500c77-181d-486c-a6ae-7e6bd22bcab4",
   "metadata": {},
   "outputs": [
    {
     "name": "stdout",
     "output_type": "stream",
     "text": [
      "[1, 2, 3, 4]\n",
      "['늦봄관', '만우관', '소통관', '송암관', '장공관', '장준하통일관', '필헌관']\n"
     ]
    }
   ],
   "source": [
    "# sort()\n",
    "\n",
    "numbers = [4, 2, 1, 3]\n",
    "numbers.sort()\n",
    "print(numbers)\n",
    "\n",
    "hsu_buildings = ['만우관', '장공관', '필헌관', '소통관', '송암관', '늦봄관', '장준하통일관']\n",
    "hsu_buildings.sort()\n",
    "\n",
    "print(hsu_buildings)"
   ]
  }
 ],
 "metadata": {
  "kernelspec": {
   "display_name": "Python 3",
   "language": "python",
   "name": "python3"
  },
  "language_info": {
   "codemirror_mode": {
    "name": "ipython",
    "version": 3
   },
   "file_extension": ".py",
   "mimetype": "text/x-python",
   "name": "python",
   "nbconvert_exporter": "python",
   "pygments_lexer": "ipython3",
   "version": "3.8.8"
  }
 },
 "nbformat": 4,
 "nbformat_minor": 5
}
