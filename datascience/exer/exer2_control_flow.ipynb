{
 "cells": [
  {
   "cell_type": "code",
   "execution_count": 3,
   "id": "fe4d86fe-8511-4883-ae12-996e08d22d4c",
   "metadata": {},
   "outputs": [
    {
     "name": "stdout",
     "output_type": "stream",
     "text": [
      "<class 'bool'>\n",
      "<class 'str'>\n"
     ]
    },
    {
     "data": {
      "text/plain": [
       "False"
      ]
     },
     "execution_count": 3,
     "metadata": {},
     "output_type": "execute_result"
    }
   ],
   "source": [
    "is_tested = True\n",
    "\n",
    "print(type(is_tested))\n",
    "\n",
    "a = \"3.14\"\n",
    "print(type(a))\n",
    "\n",
    "a=2\n",
    "b=3\n",
    "\n",
    "a>b"
   ]
  },
  {
   "cell_type": "code",
   "execution_count": 7,
   "id": "5a2fffea-df09-4446-b24c-d0b982b8c5d9",
   "metadata": {},
   "outputs": [
    {
     "name": "stdout",
     "output_type": "stream",
     "text": [
      "말티푸\n",
      "True\n"
     ]
    }
   ],
   "source": [
    "puppy = 'maltepoo'\n",
    "is_yes = False\n",
    "\n",
    "if puppy == 'maltese':\n",
    "    print('말티즈 맞네')\n",
    "    is_yes = True\n",
    "    \n",
    "elif puppy == 'poodle':\n",
    "    print('응')\n",
    "    is_yes = True\n",
    "    \n",
    "elif puppy == 'maltepoo':\n",
    "    print('말티푸')\n",
    "    is_yes = True\n",
    "    \n",
    "else:\n",
    "    print(\"종료\")\n",
    "    \n",
    "print(is_yes)"
   ]
  },
  {
   "cell_type": "code",
   "execution_count": 9,
   "id": "569573ff-c356-410f-8ba4-b1ececeecbe6",
   "metadata": {},
   "outputs": [
    {
     "name": "stdout",
     "output_type": "stream",
     "text": [
      "[ERROR]: y is not declared.\n",
      "contrinue..\n"
     ]
    }
   ],
   "source": [
    "\"\"\"\n",
    "Exception Handling\n",
    "\"\"\"\n",
    "\n",
    "x = 1\n",
    "\n",
    "try:\n",
    "    print(y)\n",
    "    print(x) # be skipped\n",
    "except:\n",
    "    print(\"[ERROR]: y is not declared.\")\n",
    "    \n",
    "print(\"contrinue..\")\n"
   ]
  }
 ],
 "metadata": {
  "kernelspec": {
   "display_name": "Python 3",
   "language": "python",
   "name": "python3"
  },
  "language_info": {
   "codemirror_mode": {
    "name": "ipython",
    "version": 3
   },
   "file_extension": ".py",
   "mimetype": "text/x-python",
   "name": "python",
   "nbconvert_exporter": "python",
   "pygments_lexer": "ipython3",
   "version": "3.8.8"
  }
 },
 "nbformat": 4,
 "nbformat_minor": 5
}
