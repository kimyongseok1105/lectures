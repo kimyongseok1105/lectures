{
 "cells": [
  {
   "cell_type": "code",
   "execution_count": 8,
   "id": "6d4b7c31-6a14-4d02-8ffe-afa2aca26b6d",
   "metadata": {},
   "outputs": [
    {
     "name": "stdout",
     "output_type": "stream",
     "text": [
      "Hello World\n",
      "100\n",
      "my name is yongseok kim and i'm tired\n"
     ]
    }
   ],
   "source": [
    "\"\"\"\n",
    "print()\n",
    "\"\"\"\n",
    "\n",
    "print(\"Hello World\")\n",
    "print(100)\n",
    "\n",
    "introduce = \"my name is\"\n",
    "name = \" yongseok kim\"\n",
    "\n",
    "print(introduce + name + \" and i'm tired\")"
   ]
  },
  {
   "cell_type": "code",
   "execution_count": 10,
   "id": "d52f9614-30c3-4fca-800c-028ec1e7865b",
   "metadata": {},
   "outputs": [
    {
     "data": {
      "text/plain": [
       "float"
      ]
     },
     "execution_count": 10,
     "metadata": {},
     "output_type": "execute_result"
    }
   ],
   "source": [
    "\"\"\"\n",
    "Variables\n",
    "\"\"\"\n",
    "\n",
    "user_name = \"Yongseok\"\n",
    "user_phonenumber = 71857383\n",
    "user_grade = 2\n",
    "user_major = \"ITCONTENT\"\n",
    "my_eyes = 0.1\n",
    "type(my_eyes)"
   ]
  },
  {
   "cell_type": "code",
   "execution_count": 14,
   "id": "2d6a4116-5165-4d89-83fe-38553496831a",
   "metadata": {},
   "outputs": [
    {
     "name": "stdout",
     "output_type": "stream",
     "text": [
      "x =  1\n",
      "Address pf x:  140734377568048\n",
      " x =  2\n",
      "Address of x:  140734377568080\n"
     ]
    }
   ],
   "source": [
    "\"\"\"\n",
    "Vairable: Assignment\n",
    "\n",
    "\"\"\"\n",
    "\n",
    "x = 1\n",
    "print('x = ', x)\n",
    "print(\"Address pf x: \", id(x))\n",
    "\n",
    "x = 2\n",
    "print(' x = ', x)\n",
    "print(\"Address of x: \", id(x))"
   ]
  },
  {
   "cell_type": "code",
   "execution_count": 15,
   "id": "022ba875-84b7-4cdf-917d-b5d57e7db956",
   "metadata": {},
   "outputs": [],
   "source": [
    "\"\"\"\n",
    "Data Type: Integers\n",
    "\"\"\"\n",
    "\n",
    "computer = 2\n",
    "cup = 17\n",
    "shoes = 10\n",
    "broken_glasses = -2"
   ]
  },
  {
   "cell_type": "code",
   "execution_count": 21,
   "id": "b6b66ec7-e74e-41dc-8320-f5671034ba6f",
   "metadata": {},
   "outputs": [],
   "source": [
    "\"\"\"\n",
    "Data Types: Real Numbers\n",
    "\"\"\"\n",
    "\n",
    "hecto = 100\n",
    "kilo = 1000\n",
    "mega = 1000000"
   ]
  },
  {
   "cell_type": "code",
   "execution_count": 17,
   "id": "26d09bc5-a449-4bd6-91d1-e5cc287510ef",
   "metadata": {},
   "outputs": [],
   "source": [
    "\"\"\"\n",
    "Data Types: String\n",
    "\"\"\"\n",
    "\n",
    "favorite_gmae = \"KartRider\"\n",
    "favorite_athelete = \"JaeseokYoo\"\n",
    "favorite_Youtuber = \"Moonhojun\""
   ]
  },
  {
   "cell_type": "code",
   "execution_count": null,
   "id": "dbb95ba3-ec05-4509-a096-9c76ad31415b",
   "metadata": {},
   "outputs": [],
   "source": []
  }
 ],
 "metadata": {
  "kernelspec": {
   "display_name": "Python 3",
   "language": "python",
   "name": "python3"
  },
  "language_info": {
   "codemirror_mode": {
    "name": "ipython",
    "version": 3
   },
   "file_extension": ".py",
   "mimetype": "text/x-python",
   "name": "python",
   "nbconvert_exporter": "python",
   "pygments_lexer": "ipython3",
   "version": "3.8.8"
  }
 },
 "nbformat": 4,
 "nbformat_minor": 5
}
