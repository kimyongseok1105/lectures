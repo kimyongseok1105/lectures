{
 "cells": [
  {
   "cell_type": "code",
   "execution_count": 4,
   "id": "aa3a43b8-0001-4b6a-9926-87dc879048a5",
   "metadata": {},
   "outputs": [
    {
     "name": "stdout",
     "output_type": "stream",
     "text": [
      "3\n",
      "2\n"
     ]
    }
   ],
   "source": [
    "\"\"\"\n",
    "Functions vs Method\n",
    "\"\"\"\n",
    "\n",
    "def my_function(x):\n",
    "    return x+1\n",
    "\n",
    "y = 2\n",
    "result = my_function(y)\n",
    "print(result)\n",
    "\n",
    "# Method\n",
    "\n",
    "x = 1\n",
    "\n",
    "class my_class:\n",
    "    def my_method(self):\n",
    "        return x + 1\n",
    "    \n",
    "cls = my_class()\n",
    "\n",
    "print(cls.my_method())"
   ]
  },
  {
   "cell_type": "code",
   "execution_count": 6,
   "id": "87205d8a-8aab-4c6e-816f-3c0f1fcf7b8b",
   "metadata": {},
   "outputs": [
    {
     "name": "stdout",
     "output_type": "stream",
     "text": [
      "Hello everyone, my name is Yong seok kim, I was born in 1999,     and I live in Siheung.\n"
     ]
    }
   ],
   "source": [
    "\"\"\"\n",
    "Function Parameters\n",
    "\"\"\"\n",
    "\n",
    "def introduce_myself(name, birthyear, city):\n",
    "    print(\"Hello everyone, my name is %s, I was born in %d, \\\n",
    "    and I live in %s.\" % (name, birthyear, city))\n",
    "    \n",
    "introduce_myself(\"Yong seok kim\", 1999, \"Siheung\")"
   ]
  },
  {
   "cell_type": "code",
   "execution_count": 8,
   "id": "1b4279ef-aa7e-4823-b627-e02c52a88c3f",
   "metadata": {},
   "outputs": [
    {
     "name": "stdout",
     "output_type": "stream",
     "text": [
      "2021 is not a leay year\n"
     ]
    }
   ],
   "source": [
    "\"\"\"\n",
    "Return Keyword\n",
    "\"\"\"\n",
    "\n",
    "# leap year + 윤년(2월 29일)\n",
    "def check_leap_year(year):\n",
    "    if year % 4 == 0:\n",
    "        return \"%d is a leap year\" % (year)\n",
    "    else:\n",
    "        return \"%d is not a leay year\" % (year)\n",
    "    \n",
    "print(check_leap_year(2021))"
   ]
  },
  {
   "cell_type": "code",
   "execution_count": 10,
   "id": "d60211d6-273d-40ef-9367-66876b987b09",
   "metadata": {},
   "outputs": [
    {
     "name": "stdout",
     "output_type": "stream",
     "text": [
      "9 16 25\n"
     ]
    }
   ],
   "source": [
    "\"\"\"\n",
    "Return Multiple Values\n",
    "\"\"\"\n",
    "\n",
    "def square_point(x, y, z):\n",
    "    x_squared = x ** 2\n",
    "    y_squared = y ** 2\n",
    "    z_squared = z ** 2\n",
    "    return x_squared, y_squared, z_squared\n",
    "\n",
    "three_squared, four_squared, fice_squared = square_point(3, 4, 5)\n",
    "\n",
    "print(three_squared, four_squared, fice_squared)"
   ]
  },
  {
   "cell_type": "code",
   "execution_count": 12,
   "id": "172bfef6-5efa-4a62-9141-996096c3977c",
   "metadata": {},
   "outputs": [
    {
     "name": "stdout",
     "output_type": "stream",
     "text": [
      "Hello\n"
     ]
    }
   ],
   "source": [
    "\"\"\"\n",
    "Global Variables\n",
    "\"\"\"\n",
    "\n",
    "a = \"Hello\"\n",
    "\n",
    "def prints_a():\n",
    "    print(a)\n",
    "    \n",
    "prints_a()"
   ]
  },
  {
   "cell_type": "code",
   "execution_count": 17,
   "id": "14924366-1aed-44ec-b05a-f5539f7af501",
   "metadata": {},
   "outputs": [
    {
     "name": "stdout",
     "output_type": "stream",
     "text": [
      "3\n"
     ]
    }
   ],
   "source": [
    "\"\"\"\n",
    "Local Variables\n",
    "\"\"\"\n",
    "\n",
    "a = 5 # global var.\n",
    "\n",
    "def f1():\n",
    "    a = 3 # Local var.\n",
    "    print(a)\n",
    "    \n",
    "f1()\n",
    "    \n"
   ]
  },
  {
   "cell_type": "code",
   "execution_count": 20,
   "id": "27a6d2c6-9b2c-4b92-8ebd-a50c28308f59",
   "metadata": {},
   "outputs": [
    {
     "name": "stdout",
     "output_type": "stream",
     "text": [
      "Height = 1\n",
      "Width = 2\n",
      "Depth =  3\n",
      "Height = 1\n",
      "Width = 2\n",
      "Depth =  3\n",
      "Height = 3\n",
      "Width = 1\n",
      "Depth =  1\n"
     ]
    }
   ],
   "source": [
    "\"\"\"\n",
    "Keyword Arguments and Default Values\n",
    "\"\"\"\n",
    "\n",
    "def findvolume(height=1, width=1, depth=1):\n",
    "    print(\"Height = \" + str(height)) # st(): 어떠한 값을 문자열 값으로 변환0\n",
    "    print(\"Width = \" + str(width))\n",
    "    print(\"Depth = \", depth)\n",
    "    \n",
    "findvolume(1, 2, 3)\n",
    "findvolume(depth=3, width=2, height=1)\n",
    "findvolume(height=3) "
   ]
  }
 ],
 "metadata": {
  "kernelspec": {
   "display_name": "Python 3",
   "language": "python",
   "name": "python3"
  },
  "language_info": {
   "codemirror_mode": {
    "name": "ipython",
    "version": 3
   },
   "file_extension": ".py",
   "mimetype": "text/x-python",
   "name": "python",
   "nbconvert_exporter": "python",
   "pygments_lexer": "ipython3",
   "version": "3.8.8"
  }
 },
 "nbformat": 4,
 "nbformat_minor": 5
}
