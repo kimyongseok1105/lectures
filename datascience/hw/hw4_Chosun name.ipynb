{
 "cells": [
  {
   "cell_type": "code",
   "execution_count": 25,
   "id": "d4f2443d-fd6a-40ca-8e32-424212866bcb",
   "metadata": {},
   "outputs": [
    {
     "name": "stdout",
     "output_type": "stream",
     "text": [
      "['쌍', '쇠', '복', '돌', '팽', '육', '쌍', '개', '칠', '깁', '삼', '방']\n",
      "['봉', '구', '욕', '포', '똥', '삼', '식', '석', '놈', '님', '년', '돌', '단', '득', '방', '질', '장', '걸', '래', '룡', '동', '순', '자', '박', '창', '언', '것', '포', '만', '단', '국']\n",
      "당신의 조선시대 이름은 김삼똥 입니다.\n"
     ]
    }
   ],
   "source": [
    "def get_my_chosun_name(fmaily_name, month, day):\n",
    "    print(\"당신의 조선시대 이름은 %s%s%s 입니다.\" % (family_name, month, day))\n",
    "    \n",
    "month = [\"쌍\", \"쇠\", \"복\", \"돌\", \"팽\", \"육\", \"쌍\", \"개\", \"칠\", \"깁\", \"삼\", \"방\"]\n",
    "print(month)\n",
    "\n",
    "day = [\"봉\", \"구\", \"욕\", \"포\", \"똥\", \"삼\", \"식\", \"석\", \"놈\", \"님\", \"년\", \\\n",
    "      \"돌\", \"단\", \"득\", \"방\", \"질\", \"장\", \"걸\", \"래\", \"룡\", \"동\", \\\n",
    "      \"순\", \"자\", \"박\", \"창\", \"언\", \"것\", \"포\", \"만\", \"단\", \"국\"]\n",
    "print(day)\n",
    "\n",
    "get_my_chosun_name(\"김\", month[10], day[4])"
   ]
  }
 ],
 "metadata": {
  "kernelspec": {
   "display_name": "Python 3",
   "language": "python",
   "name": "python3"
  },
  "language_info": {
   "codemirror_mode": {
    "name": "ipython",
    "version": 3
   },
   "file_extension": ".py",
   "mimetype": "text/x-python",
   "name": "python",
   "nbconvert_exporter": "python",
   "pygments_lexer": "ipython3",
   "version": "3.8.8"
  }
 },
 "nbformat": 4,
 "nbformat_minor": 5
}
